{
 "cells": [
  {
   "cell_type": "markdown",
   "metadata": {},
   "source": [
    "# Faîtes vos jeux!"
   ]
  },
  {
   "cell_type": "markdown",
   "metadata": {},
   "source": [
    "Dans cette série de notebook, nous allons coder des jeux de casino en python."
   ]
  },
  {
   "cell_type": "markdown",
   "metadata": {},
   "source": [
    "### 1ère Partie"
   ]
  },
  {
   "cell_type": "markdown",
   "metadata": {},
   "source": [
    "### Poker éléctronique\n",
    "\n",
    "##### Règles du jeu:\n",
    "\n",
    "Le poker éléctronique est un jeu de type machine à sous,\n",
    "le joueur choisi sa mise, appui sur le bouton \"jouer\" et la machine lui propose un jeu de 5 cartes tirés d'un jeu de 52 cartes.\n",
    "Le jouer peut alors choisir des cartes à garder, il peut choisir d'en garder 0, 1, 2, 3 ou 4, puis rappuie sur le bouton. Selon le choix du joueur, la machine tire de nouveaux le nombre de carte qu'il faut pour constituer le tirage final. \n",
    "Enfin le joueur récupère ses gains qui correspondent au montant de sa mise multiplié par le gain correspondant à la combinaison obtenue sur le tirage final. Si il n'a aucune combinaison il perd sa mise.\n",
    "\n",
    "##### Combinaison et gains:\n",
    "\n",
    "-Paire : 2 cartes identiques => 1 fois la mise\n",
    "\n",
    "-Double Paire : deux fois 2 cartes identiques => 2 fois la mise\n",
    "\n",
    "-Brelan : 3 cartes identiques => 3 fois la mise\n",
    "\n",
    "-Quinte : 5 cartes consécutives => 4 fois la mise\n",
    "\n",
    "-Flush : 5 cartes de la même couleur => 6 fois la mise\n",
    "\n",
    "-Full : 1 paire + 1 brelan => 9 fois la mise\n",
    "\n",
    "-Carré : 4 cartes identiques => 25 fois la mise\n",
    "\n",
    "-Quinte Flush : 1 quinte de la même couleur => 50 fois la mise\n",
    "\n",
    "-Quinte Flush Royale : 1 quinte flush avec as, roi, dame, valet, 10 => 250 fois la mise."
   ]
  },
  {
   "cell_type": "code",
   "execution_count": 2,
   "metadata": {},
   "outputs": [],
   "source": [
    "import pandas as pd\n",
    "import random"
   ]
  },
  {
   "cell_type": "markdown",
   "metadata": {},
   "source": [
    "Le deck represente le jeu de carte : \n",
    "\n",
    "chaque carte est représentée par :\n",
    "    \n",
    "- un chiffre ou un lettre majuscule qui représente la valeur de la carte ( J = Valet, Q = Dame, K = Roi, A = As )\n",
    "- une lettre minuscule qui représente la couleur ( h = Hearts = Coeur, d = Diamonds = Carreau, c = Clubs = Trèfle, s = Spades = Pique )"
   ]
  },
  {
   "cell_type": "code",
   "execution_count": 3,
   "metadata": {},
   "outputs": [],
   "source": [
    "deck = ['2-h','3-h','4-h','5-h','6-h','7-h','8-h','9-h','10-h','J-h','Q-h','K-h','A-h','2-d','3-d','4-d','5-d','6-d','7-d','8-d','9-d','10-d','J-d','Q-d','K-d','A-d','2-c','3-c','4-c','5-c','6-c','7-c','8-c','9-c','10-c','J-c','Q-c','K-c','A-c','2-s','3-s','4-s','5-s','6-s','7-s','8-s','9-s','10-s','J-s','Q-s','K-s','A-s']"
   ]
  },
  {
   "cell_type": "code",
   "execution_count": 4,
   "metadata": {},
   "outputs": [
    {
     "output_type": "execute_result",
     "data": {
      "text/plain": [
       "52"
      ]
     },
     "metadata": {},
     "execution_count": 4
    }
   ],
   "source": [
    "len(deck)"
   ]
  },
  {
   "cell_type": "markdown",
   "metadata": {},
   "source": [
    "Créer une fonction, nommée premier_tirage, permettant de faire un tirage aléatoire sans remise dans le deck.\n",
    "Les cartes tirées devront être retirées du deck pour le deuxième tirage.\n",
    "La fonction devra retourner le tirage, et le nouveau deck. "
   ]
  },
  {
   "cell_type": "code",
   "execution_count": 5,
   "metadata": {},
   "outputs": [],
   "source": [
    "def premier_tirage(deck: list):\n",
    "    tirage = []\n",
    "    for _ in range(5):\n",
    "        carte = random.choice(deck)\n",
    "        tirage.append(carte)\n",
    "        deck.remove(carte)\n",
    "    return tirage, deck"
   ]
  },
  {
   "cell_type": "code",
   "execution_count": 6,
   "metadata": {},
   "outputs": [
    {
     "output_type": "stream",
     "name": "stdout",
     "text": [
      "['J-d', '6-d', 'K-c', '9-c', '8-d'] 47\n"
     ]
    }
   ],
   "source": [
    "tirage, deck = premier_tirage(deck)\n",
    "print(tirage, len(deck))"
   ]
  },
  {
   "cell_type": "markdown",
   "metadata": {},
   "source": [
    "Créer une fonction, nommée choix_carte, qui prend un tirage en entrée, et permet au joueur de choisir quelle carte il garde ou non pour le deuxième tirage. La fonction devra retourner le jeu avec les carte que le joueur aura garder."
   ]
  },
  {
   "cell_type": "code",
   "execution_count": 7,
   "metadata": {},
   "outputs": [],
   "source": [
    "def reponse_booleenne(question: str):\n",
    "    while True:\n",
    "        reponse = input(question + ' Oui ou Non.\\n').lower()\n",
    "        if reponse == 'non' or reponse == 'n':\n",
    "            return False\n",
    "        if reponse == 'oui' or reponse == 'o':\n",
    "            return True"
   ]
  },
  {
   "cell_type": "code",
   "execution_count": 8,
   "metadata": {},
   "outputs": [],
   "source": [
    "def choix_carte(tirage: list):\n",
    "    jeu = []\n",
    "    for carte in tirage:\n",
    "        if reponse_booleenne(f'Voulez-vous garder la carte {carte} ?'):\n",
    "            jeu.append(carte)\n",
    "    return jeu"
   ]
  },
  {
   "cell_type": "code",
   "execution_count": 9,
   "metadata": {},
   "outputs": [
    {
     "output_type": "stream",
     "name": "stdout",
     "text": [
      "['J-d', '6-d', '8-d']\n"
     ]
    }
   ],
   "source": [
    "jeu = choix_carte(tirage)\n",
    "print(jeu)"
   ]
  },
  {
   "cell_type": "markdown",
   "metadata": {},
   "source": [
    "Créer un fonction, nommée deuxieme_tirage, qui permet, à partir du jeu obtenu avec la fonction choix_carte et le deck obtenu avec la fonction premier tirage, de constituer le tirage final du joueur. La fonction devra retourner le tirage final."
   ]
  },
  {
   "cell_type": "code",
   "execution_count": 10,
   "metadata": {},
   "outputs": [],
   "source": [
    "def deuxieme_tirage(jeu: list, deck: list):\n",
    "    tirage_final = jeu\n",
    "    nbr_cartes = len(jeu)\n",
    "    if nbr_cartes < 5:\n",
    "        tirage_final += random.sample(deck, 5 - nbr_cartes)\n",
    "    return tirage_final"
   ]
  },
  {
   "cell_type": "code",
   "execution_count": 11,
   "metadata": {},
   "outputs": [
    {
     "output_type": "execute_result",
     "data": {
      "text/plain": [
       "['J-d', '6-d', '8-d', '4-h', 'A-s']"
      ]
     },
     "metadata": {},
     "execution_count": 11
    }
   ],
   "source": [
    "deuxieme_tirage(jeu, deck)"
   ]
  },
  {
   "cell_type": "markdown",
   "metadata": {},
   "source": [
    "Grâce aux fonctions créées précédemment, faire un fonction nommée machine, qui fait le premier tirage, l'affiche, propose au joueur les cartes afin de choisir celles à garder, puis fait le deuxième tirage et l'affiche et le retourne."
   ]
  },
  {
   "cell_type": "code",
   "execution_count": 12,
   "metadata": {},
   "outputs": [],
   "source": [
    "def machine():\n",
    "    deck2 = ['2-h','3-h','4-h','5-h','6-h','7-h','8-h','9-h','10-h','J-h','Q-h','K-h','A-h','2-d','3-d','4-d','5-d','6-d','7-d','8-d','9-d','10-d','J-d','Q-d','K-d','A-d','2-c','3-c','4-c','5-c','6-c','7-c','8-c','9-c','10-c','J-c','Q-c','K-c','A-c','2-s','3-s','4-s','5-s','6-s','7-s','8-s','9-s','10-s','J-s','Q-s','K-s','A-s']\n",
    "\n",
    "    tirage1, deck2 = premier_tirage(deck2)\n",
    "    print('premier tirage', tirage1)\n",
    "    \n",
    "    jeu = choix_carte(tirage1)\n",
    "    tirage_final = deuxieme_tirage(jeu, deck2)\n",
    "    print('deuxieme tirage', tirage_final)\n",
    "    return tirage_final"
   ]
  },
  {
   "cell_type": "code",
   "execution_count": 13,
   "metadata": {},
   "outputs": [
    {
     "output_type": "stream",
     "name": "stdout",
     "text": [
      "premier tirage ['8-d', 'Q-s', '5-s', 'K-h', '10-s']\n",
      "deuxieme tirage ['8-d', 'Q-c', '4-s', 'J-c', '9-h']\n"
     ]
    },
    {
     "output_type": "execute_result",
     "data": {
      "text/plain": [
       "['8-d', 'Q-c', '4-s', 'J-c', '9-h']"
      ]
     },
     "metadata": {},
     "execution_count": 13
    }
   ],
   "source": [
    "machine()"
   ]
  },
  {
   "cell_type": "markdown",
   "metadata": {},
   "source": [
    "Trouver un moyen de tester un tirage pour voir si il correspond à une des combinaisons gagnantes."
   ]
  },
  {
   "cell_type": "code",
   "execution_count": 14,
   "metadata": {},
   "outputs": [],
   "source": [
    "# serie pour ordonner les valeurs chiffrées du tirage (on se basera sur les index)\n",
    "serie = ['2','3','4','5','6','7','8','9','10','J','Q','K','A']\n",
    "\n",
    "\n",
    "def decompose_jeu(tirage_final: list):\n",
    "    # tri des valeurs en fonction de l'index de la carte dans serie\n",
    "    tirage_final.sort(key=lambda carte: serie.index(carte.split('-')[0]))\n",
    "    print('tirage_final trié par valeur', tirage_final)\n",
    "\n",
    "    # extraction des valeurs et des couleurs des 5 cartes tirées\n",
    "    v_cartes = []\n",
    "    c_cartes = []\n",
    "    for carte in tirage_final:\n",
    "        valeur, couleur = carte.split('-')\n",
    "        v_cartes.append(valeur)\n",
    "        c_cartes.append(couleur)\n",
    "    print('v_cartes : ', v_cartes)\n",
    "    print('c_cartes : ', c_cartes)\n",
    "    return v_cartes, c_cartes\n",
    "\n",
    "\n",
    "# combinaisons gagnantes\n",
    "def quinte_royale(v_cartes: list):\n",
    "    return v_cartes == ['10','J','Q','K','A']\n",
    "\n",
    "def flush(c_cartes: list):\n",
    "    if c_cartes.count(c_cartes[0]) != 5:\n",
    "        return False\n",
    "    return True\n",
    "\n",
    "def quinte(v_cartes: list):\n",
    "    for indice, valeur in enumerate(v_cartes[:-1]):\n",
    "        valeur_suivante = v_cartes[indice + 1]\n",
    "        if valeur == '5' and valeur_suivante == 'A':\n",
    "            break\n",
    "        if valeur_suivante != serie[serie.index(valeur) + 1]:\n",
    "            return False\n",
    "    return True\n",
    "\n",
    "def cartes_identiques(v_cartes: list):\n",
    "    repetition_cartes = {}\n",
    "    for valeur in v_cartes:\n",
    "        if valeur not in repetition_cartes:\n",
    "            repetition_cartes[valeur] = 0\n",
    "        repetition_cartes[valeur] += 1\n",
    "    return repetition_cartes\n",
    "\n",
    "\n",
    "# test des combinaisons\n",
    "def test_combinaison(valeurs: list, couleurs: list):\n",
    "    if quinte_royale(valeurs) and flush(couleurs):\n",
    "        print('Bravo ! C\\'est une Quinte Flush Royale !')\n",
    "        return 250\n",
    "    if quinte(valeurs):\n",
    "        if flush(couleurs):\n",
    "            print('Bravo ! C\\'est une Quinte Flush !')\n",
    "            return 50\n",
    "        print('Bravo ! C\\'est une Quinte !')\n",
    "        return 4\n",
    "    if flush(couleurs):\n",
    "        print('Bravo ! C\\'est un Flush !')\n",
    "        return 6\n",
    "    \n",
    "    repetition_cartes = cartes_identiques(valeurs)\n",
    "    # tri par ordre decroissant le nombre de cartes identiques\n",
    "    combo = sorted(repetition_cartes.values(), reverse=True)\n",
    "    if combo[0] == 4:\n",
    "        print('Bravo ! C\\'est un Carré !')\n",
    "        return 25\n",
    "    if combo[0] == 3:    \n",
    "        if combo[1] == 2:\n",
    "            print('Bravo ! C\\'est un Full !')\n",
    "            return 9\n",
    "        print('Bravo ! C\\'est un Brelan !')\n",
    "        return 3\n",
    "    if combo[0] == 2:\n",
    "        if combo[1] == 2:\n",
    "            print('Bravo ! C\\'est une Double Paire !')\n",
    "            return 2\n",
    "        print('Bravo ! C\\'est une Paire. Vous conservez votre mise.')\n",
    "        return 1\n",
    "    \n",
    "    print('Mise perdue...ce sera pour une prochaine fois !')\n",
    "    return 0"
   ]
  },
  {
   "cell_type": "code",
   "execution_count": 15,
   "metadata": {},
   "outputs": [
    {
     "output_type": "stream",
     "name": "stdout",
     "text": [
      "tirage_final trié par valeur ['2-d', '2-h', '4-h', '4-c', '4-d']\nv_cartes :  ['2', '2', '4', '4', '4']\nc_cartes :  ['d', 'h', 'h', 'c', 'd']\nBravo ! C'est un Full !\n"
     ]
    }
   ],
   "source": [
    "# jeu de tests\n",
    "tirage_final = ['4-h','4-c','2-d','2-h','4-d']\n",
    "\n",
    "v_cartes, c_cartes = decompose_jeu(tirage_final)\n",
    "\n",
    "coeff_combinaison = test_combinaison(v_cartes, c_cartes)"
   ]
  },
  {
   "cell_type": "markdown",
   "metadata": {},
   "source": [
    "Créer une fonction permettant de calculer les gains et d'afficher le résultat au joueur."
   ]
  },
  {
   "cell_type": "code",
   "execution_count": 16,
   "metadata": {},
   "outputs": [],
   "source": [
    "def calculer_gains(mise: int, coeff_combinaison: int):\n",
    "    gains = mise * coeff_combinaison\n",
    "    resultat = f'Vous remportez {gains}€.'\n",
    "    return gains, resultat"
   ]
  },
  {
   "cell_type": "code",
   "execution_count": 17,
   "metadata": {},
   "outputs": [
    {
     "output_type": "execute_result",
     "data": {
      "text/plain": [
       "(4500, 'Vous remportez 4500€.')"
      ]
     },
     "metadata": {},
     "execution_count": 17
    }
   ],
   "source": [
    "calculer_gains(500, coeff_combinaison)"
   ]
  },
  {
   "cell_type": "markdown",
   "metadata": {},
   "source": [
    "Créer une fonction, nommée partie, qui prend en entrée une mise et une bankroll (total de l'argent disponible pour jouer), perment de faire le tirage, et calcule la nouvelle bankroll en fonction des gains. La fonction devra retourner le resultat de la partie et la nouvelle bankroll."
   ]
  },
  {
   "cell_type": "code",
   "execution_count": 18,
   "metadata": {},
   "outputs": [],
   "source": [
    "def partie(mise: int, bankroll: int):\n",
    "    tirage_final = machine()\n",
    "    v_cartes, c_cartes = decompose_jeu(tirage_final)\n",
    "    coeff_combinaison = test_combinaison(v_cartes, c_cartes)\n",
    "    gains, resultat = calculer_gains(mise, coeff_combinaison)\n",
    "    bankroll = bankroll - mise + gains\n",
    "    return resultat, bankroll"
   ]
  },
  {
   "cell_type": "code",
   "execution_count": 19,
   "metadata": {},
   "outputs": [
    {
     "output_type": "stream",
     "name": "stdout",
     "text": [
      "premier tirage ['J-d', '7-s', 'Q-d', '3-d', '10-h']\n",
      "deuxieme tirage ['J-d', '7-s', 'Q-d', '3-d', '9-d']\n",
      "tirage_final trié par valeur ['3-d', '7-s', '9-d', 'J-d', 'Q-d']\n",
      "v_cartes :  ['3', '7', '9', 'J', 'Q']\n",
      "c_cartes :  ['d', 's', 'd', 'd', 'd']\n",
      "Mise perdue...ce sera pour une prochaine fois !\n"
     ]
    },
    {
     "output_type": "execute_result",
     "data": {
      "text/plain": [
       "('Vous remportez 0€.', 500)"
      ]
     },
     "metadata": {},
     "execution_count": 19
    }
   ],
   "source": [
    "partie(500, 1000)"
   ]
  },
  {
   "cell_type": "markdown",
   "metadata": {},
   "source": [
    "Créer une fonction, nommée video_poker, qui permet au joueur \"d'inserer de l'argent\" (bankroll), de choisir la mise puis de jouer jusqu'a avoir tout perdu (ou pas si il a de la chance!)"
   ]
  },
  {
   "cell_type": "code",
   "execution_count": 20,
   "metadata": {},
   "outputs": [],
   "source": [
    "def mise_possible(bankroll: int, mise: int):\n",
    "    while not(bankroll >= mise > 0):\n",
    "        mise = int(input(\"La mise doit être inférieure ou égale à votre cagnotte, merci de modifier votre mise : \"))\n",
    "    return mise\n",
    "        \n",
    "def video_poker():\n",
    "    bankroll = int(input(\"Veuillez insérer de l'argent, svp : \"))\n",
    "    mise = int(input(\"Faites vos jeux : \"))\n",
    "    \n",
    "    mise = mise_possible(bankroll, mise)\n",
    "    print(mise)\n",
    "    \n",
    "    while bankroll - mise >= 0:\n",
    "        resultat, bankroll = partie(mise, bankroll)\n",
    "        print(resultat)\n",
    "        print(f'Il reste {bankroll}€ dans votre cagnotte')\n",
    "        if bankroll == 0:\n",
    "            print('C\\'est perdu...')\n",
    "            break\n",
    "        else:\n",
    "            if reponse_booleenne('Voulez-vous continuer à jouer ?'):\n",
    "                mise = int(input(\"Faites vos jeux : \"))\n",
    "                mise = mise_possible(bankroll, mise)\n",
    "            else:\n",
    "                break"
   ]
  },
  {
   "cell_type": "code",
   "execution_count": 21,
   "metadata": {},
   "outputs": [
    {
     "output_type": "stream",
     "name": "stdout",
     "text": [
      "200\n",
      "premier tirage ['7-c', '7-d', '5-s', '6-c', '3-s']\n",
      "deuxieme tirage ['7-c', '7-d', '2-h', '6-s', '6-h']\n",
      "tirage_final trié par valeur ['2-h', '6-s', '6-h', '7-c', '7-d']\n",
      "v_cartes :  ['2', '6', '6', '7', '7']\n",
      "c_cartes :  ['h', 's', 'h', 'c', 'd']\n",
      "Bravo ! C'est une Double Paire !\n",
      "Vous remportez 400€.\n",
      "Il reste 600€ dans votre cagnotte\n"
     ]
    }
   ],
   "source": [
    "video_poker()"
   ]
  },
  {
   "cell_type": "markdown",
   "metadata": {},
   "source": [
    "Reprenez le notebook en scripts, et executez votre programme dans votre terminal."
   ]
  },
  {
   "cell_type": "code",
   "execution_count": 23,
   "metadata": {},
   "outputs": [
    {
     "output_type": "stream",
     "name": "stdout",
     "text": [
      "100\n",
      "premier tirage ['2-h', 'K-s', '10-h', '7-h', '4-h']\n",
      "deuxieme tirage ['2-h', 'K-s', '8-h', '3-c', '3-s']\n",
      "tirage_final trié par valeur ['2-h', '3-c', '3-s', '8-h', 'K-s']\n",
      "v_cartes :  ['2', '3', '3', '8', 'K']\n",
      "c_cartes :  ['h', 'c', 's', 'h', 's']\n",
      "Bravo ! C'est une Paire. Vous conservez votre mise.\n",
      "Vous remportez 100€.\n",
      "Il reste 200€ dans votre cagnotte\n",
      "Vous récuperez 200€, bien joué !\n"
     ]
    }
   ],
   "source": [
    "import random\n",
    "\n",
    "# serie pour ordonner les valeurs chiffrées du tirage (on se basera sur les index)\n",
    "serie = ['2','3','4','5','6','7','8','9','10','J','Q','K','A']\n",
    "\n",
    "def reponse_booleenne(question: str):\n",
    "    while True:\n",
    "        reponse = input(question + ' Oui ou Non.\\n').lower()\n",
    "        if reponse == 'non' or reponse == 'n':\n",
    "            return False\n",
    "        if reponse == 'oui' or reponse == 'o':\n",
    "            return True\n",
    "\n",
    "\n",
    "def premier_tirage(deck: list):\n",
    "    tirage = []\n",
    "    for _ in range(5):\n",
    "        carte = random.choice(deck)\n",
    "        tirage.append(carte)\n",
    "        deck.remove(carte)\n",
    "    return tirage, deck\n",
    "\n",
    "def choix_carte(tirage: list):\n",
    "    jeu = []\n",
    "    for carte in tirage:\n",
    "        if reponse_booleenne(f'Voulez-vous garder la carte {carte} ?'):\n",
    "            jeu.append(carte)\n",
    "    return jeu\n",
    "\n",
    "def deuxieme_tirage(jeu: list, deck: list):\n",
    "    tirage_final = jeu\n",
    "    nbr_cartes = len(jeu)\n",
    "    if nbr_cartes < 5:\n",
    "        tirage_final += random.sample(deck, 5 - nbr_cartes)\n",
    "    return tirage_final\n",
    "\n",
    "\n",
    "def machine():\n",
    "    deck2 = ['2-h','3-h','4-h','5-h','6-h','7-h','8-h','9-h','10-h','J-h','Q-h','K-h','A-h','2-d','3-d','4-d','5-d','6-d','7-d','8-d','9-d','10-d','J-d','Q-d','K-d','A-d','2-c','3-c','4-c','5-c','6-c','7-c','8-c','9-c','10-c','J-c','Q-c','K-c','A-c','2-s','3-s','4-s','5-s','6-s','7-s','8-s','9-s','10-s','J-s','Q-s','K-s','A-s']\n",
    "\n",
    "    tirage1, deck2 = premier_tirage(deck2)\n",
    "    print('premier tirage', tirage1)\n",
    "    \n",
    "    jeu = choix_carte(tirage1)\n",
    "    tirage_final = deuxieme_tirage(jeu, deck2)\n",
    "    print('deuxieme tirage', tirage_final)\n",
    "    return tirage_final\n",
    "\n",
    "\n",
    "def decompose_jeu(tirage_final: list):\n",
    "    # tri des valeurs en fonction de l'index de la carte dans serie\n",
    "    tirage_final.sort(key=lambda carte: serie.index(carte.split('-')[0]))\n",
    "    print('tirage_final trié par valeur', tirage_final)\n",
    "\n",
    "    # extraction des valeurs et des couleurs des 5 cartes tirées\n",
    "    v_cartes = []\n",
    "    c_cartes = []\n",
    "    for carte in tirage_final:\n",
    "        valeur, couleur = carte.split('-')\n",
    "        v_cartes.append(valeur)\n",
    "        c_cartes.append(couleur)\n",
    "    print('v_cartes : ', v_cartes)\n",
    "    print('c_cartes : ', c_cartes)\n",
    "    return v_cartes, c_cartes\n",
    "\n",
    "\n",
    "# combinaisons gagnantes\n",
    "def quinte_royale(v_cartes: list):\n",
    "    return v_cartes == ['10','J','Q','K','A']\n",
    "\n",
    "def flush(c_cartes: list):\n",
    "    if c_cartes.count(c_cartes[0]) != 5:\n",
    "        return False\n",
    "    return True\n",
    "\n",
    "def quinte(v_cartes: list):\n",
    "    for indice, valeur in enumerate(v_cartes[:-1]):\n",
    "        valeur_suivante = v_cartes[indice + 1]\n",
    "        if valeur == '5' and valeur_suivante == 'A':\n",
    "            break\n",
    "        if valeur_suivante != serie[serie.index(valeur) + 1]:\n",
    "            return False\n",
    "    return True\n",
    "\n",
    "def cartes_identiques(v_cartes: list):\n",
    "    repetition_cartes = {}\n",
    "    for valeur in v_cartes:\n",
    "        if valeur not in repetition_cartes:\n",
    "            repetition_cartes[valeur] = 0\n",
    "        repetition_cartes[valeur] += 1\n",
    "    return repetition_cartes\n",
    "\n",
    "\n",
    "# test des combinaisons\n",
    "def test_combinaison(valeurs: list, couleurs: list):\n",
    "    if quinte_royale(valeurs) and flush(couleurs):\n",
    "        print('Bravo ! C\\'est une Quinte Flush Royale !')\n",
    "        return 250\n",
    "    if quinte(valeurs):\n",
    "        if flush(couleurs):\n",
    "            print('Bravo ! C\\'est une Quinte Flush !')\n",
    "            return 50\n",
    "        print('Bravo ! C\\'est une Quinte !')\n",
    "        return 4\n",
    "    if flush(couleurs):\n",
    "        print('Bravo ! C\\'est un Flush !')\n",
    "        return 6\n",
    "    \n",
    "    repetition_cartes = cartes_identiques(valeurs)\n",
    "    # tri par ordre decroissant le nombre de cartes identiques\n",
    "    combo = sorted(repetition_cartes.values(), reverse=True)\n",
    "    if combo[0] == 4:\n",
    "        print('Bravo ! C\\'est un Carré !')\n",
    "        return 25\n",
    "    if combo[0] == 3:    \n",
    "        if combo[1] == 2:\n",
    "            print('Bravo ! C\\'est un Full !')\n",
    "            return 9\n",
    "        print('Bravo ! C\\'est un Brelan !')\n",
    "        return 3\n",
    "    if combo[0] == 2:\n",
    "        if combo[1] == 2:\n",
    "            print('Bravo ! C\\'est une Double Paire !')\n",
    "            return 2\n",
    "        print('Bravo ! C\\'est une Paire. Vous conservez votre mise.')\n",
    "        return 1\n",
    "    \n",
    "    print('Mise perdue...ce sera pour une prochaine fois !')\n",
    "    return 0\n",
    "\n",
    "\n",
    "def calculer_gains(mise: int, coeff_combinaison: int):\n",
    "    gains = mise * coeff_combinaison\n",
    "    resultat = f'Vous remportez {gains}€.'\n",
    "    return gains, resultat\n",
    "\n",
    "\n",
    "def partie(mise: int, bankroll: int):\n",
    "    tirage_final = machine()\n",
    "    v_cartes, c_cartes = decompose_jeu(tirage_final)\n",
    "    coeff_combinaison = test_combinaison(v_cartes, c_cartes)\n",
    "    gains, resultat = calculer_gains(mise, coeff_combinaison)\n",
    "    bankroll = bankroll - mise + gains\n",
    "    return resultat, bankroll\n",
    "\n",
    "\n",
    "def mise_possible(bankroll: int, mise: int):\n",
    "    while not(bankroll >= mise > 0):\n",
    "        mise = int(input(\"La mise doit être inférieure ou égale à votre cagnotte, merci de modifier votre mise : \"))\n",
    "    return mise\n",
    "        \n",
    "def video_poker():\n",
    "    bankroll = int(input(\"Veuillez insérer de l'argent, svp : \"))\n",
    "    mise = int(input(\"Faites vos jeux : \"))\n",
    "    \n",
    "    mise = mise_possible(bankroll, mise)\n",
    "    print(mise)\n",
    "    \n",
    "    while bankroll - mise >= 0:\n",
    "        resultat, bankroll = partie(mise, bankroll)\n",
    "        print(resultat)\n",
    "        print(f'Il reste {bankroll}€ dans votre cagnotte')\n",
    "        if bankroll == 0:\n",
    "            print('C\\'est perdu...')\n",
    "            break\n",
    "        else:\n",
    "            if reponse_booleenne('Voulez-vous continuer à jouer ?'):\n",
    "                mise = int(input(\"Faites vos jeux : \"))\n",
    "                mise = mise_possible(bankroll, mise)\n",
    "            else:\n",
    "                print(f'Vous récuperez {bankroll}€, bien joué !')\n",
    "                break\n",
    "                \n",
    "\n",
    "video_poker()"
   ]
  },
  {
   "cell_type": "code",
   "execution_count": null,
   "metadata": {},
   "outputs": [],
   "source": []
  }
 ],
 "metadata": {
  "kernelspec": {
   "display_name": "Python 3",
   "language": "python",
   "name": "python3"
  },
  "language_info": {
   "codemirror_mode": {
    "name": "ipython",
    "version": 3
   },
   "file_extension": ".py",
   "mimetype": "text/x-python",
   "name": "python",
   "nbconvert_exporter": "python",
   "pygments_lexer": "ipython3",
   "version": "3.8.5-final"
  }
 },
 "nbformat": 4,
 "nbformat_minor": 4
}