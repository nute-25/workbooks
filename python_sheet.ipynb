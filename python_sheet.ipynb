{
 "cells": [
  {
   "cell_type": "markdown",
   "metadata": {},
   "source": [
    "# python sheet"
   ]
  },
  {
   "cell_type": "markdown",
   "metadata": {},
   "source": [
    "# variables"
   ]
  },
  {
   "cell_type": "code",
   "execution_count": 1,
   "metadata": {},
   "outputs": [
    {
     "name": "stdout",
     "output_type": "stream",
     "text": [
      "<class 'int'> <class 'str'>\n"
     ]
    }
   ],
   "source": [
    "# var \n",
    "\n",
    "\n",
    "#nom de la variable : var1, type : integer\n",
    "var1 = 123\n",
    "#nom de la variable : var2, type : float\n",
    "var2 = 12.6\n",
    "#nom de la variable : var3, type : booléen\n",
    "var3 = True\n",
    "#nom de la variable : var4, type : string\n",
    "var4 = 'HELLO WORD'\n",
    "#nom de la variable : var5, type : dictionnaire\n",
    "var5 = {}\n",
    "#nom de la variable : var6, type : liste\n",
    "var6 = ['bordeaux','lyon','paris','bordeaux']\n",
    "#nom de la variable : var7, type : tuple\n",
    "var7 = (True,'paris',167)\n",
    "#nom de la variable : var8, type : set\n",
    "var8 = {10,15,30}\n",
    "\n",
    "\n",
    "#modifier un type (str(),int(),bool(),list(),dict(),set(),tuple())\n",
    "\n",
    "ma_str_var = str(var1)\n",
    "print(type(var1),type(ma_str_var))"
   ]
  },
  {
   "cell_type": "markdown",
   "metadata": {},
   "source": [
    "# liste"
   ]
  },
  {
   "cell_type": "code",
   "execution_count": 2,
   "metadata": {},
   "outputs": [
    {
     "name": "stdout",
     "output_type": "stream",
     "text": [
      "['ALEX', 'ALEX', 'ALEX']\n",
      "['caps', 'ALEX', 'ALEX']\n"
     ]
    }
   ],
   "source": [
    "# liste\n",
    "ma_liste = []\n",
    "ma_liste.append(\"ALEX\")\n",
    "ma_liste.append(\"ALEX\")\n",
    "ma_liste.append(\"ALEX\")\n",
    "\n",
    "print(ma_liste)\n",
    "ma_liste[0]= \"caps\"\n",
    "print(ma_liste)"
   ]
  },
  {
   "cell_type": "markdown",
   "metadata": {},
   "source": [
    "# tupple"
   ]
  },
  {
   "cell_type": "code",
   "execution_count": 3,
   "metadata": {},
   "outputs": [
    {
     "data": {
      "text/plain": [
       "7"
      ]
     },
     "execution_count": 3,
     "metadata": {},
     "output_type": "execute_result"
    }
   ],
   "source": [
    "#tupple\n",
    "mon_tupple = ()\n",
    "mon_tupple\n",
    "mon_new_tupple = (1,3,3,7,9)\n",
    "# tupple ne ce modifie pas \n",
    "mon_new_tupple[3]"
   ]
  },
  {
   "cell_type": "markdown",
   "metadata": {},
   "source": [
    "# set"
   ]
  },
  {
   "cell_type": "code",
   "execution_count": 4,
   "metadata": {},
   "outputs": [
    {
     "data": {
      "text/plain": [
       "{'fedora', 'kali', 'osx', 'parrot'}"
      ]
     },
     "execution_count": 4,
     "metadata": {},
     "output_type": "execute_result"
    }
   ],
   "source": [
    "ma_liste =[\"osx\",\"fedora\",\"kali\",\"parrot\",\"osx\"]\n",
    "mon_set = set(ma_liste)\n",
    "# un set ne comporte pas de doublon\n",
    "mon_set"
   ]
  },
  {
   "cell_type": "markdown",
   "metadata": {},
   "source": [
    "# Dictionnaire"
   ]
  },
  {
   "cell_type": "code",
   "execution_count": 5,
   "metadata": {},
   "outputs": [
    {
     "data": {
      "text/plain": [
       "'val'"
      ]
     },
     "execution_count": 5,
     "metadata": {},
     "output_type": "execute_result"
    }
   ],
   "source": [
    "#mon dictionnaire\n",
    "mon_dict = {}\n",
    "mon_dict[\"obj1\"]= 'Paris'# assigner un val dans un dict\n",
    "\n",
    "mon_dict.keys()#clefs\n",
    "mon_dict.values()#valeur\n",
    "mon_dict.get('obj4',\"objet_introuvable\")#mettre une valeur par default si la clef n'existe pas\n",
    "\n",
    "#naviguer dans un dict\n",
    "mon_dict[\"obj2\"]= {\"clef_1\":{\"clef_2\":{\"clef_3\":\"val\"}}}\n",
    "mon_dict[\"obj2\"][\"clef_1\"][\"clef_2\"][\"clef_3\"]"
   ]
  },
  {
   "cell_type": "markdown",
   "metadata": {},
   "source": [
    "# fonction"
   ]
  },
  {
   "cell_type": "code",
   "execution_count": 6,
   "metadata": {},
   "outputs": [],
   "source": [
    "#ma fonction\n",
    "def ma_fonction():\n",
    "    #instruction que contient ma fonction\n",
    "    pass\n",
    "        \n",
    "ma_fonction()"
   ]
  },
  {
   "cell_type": "markdown",
   "metadata": {},
   "source": [
    "# classe"
   ]
  },
  {
   "cell_type": "code",
   "execution_count": null,
   "metadata": {},
   "outputs": [
    {
     "name": "stdout",
     "output_type": "stream",
     "text": [
      "nomhello\n"
     ]
    }
   ],
   "source": [
    "#ma classe \n",
    "class ma_class():\n",
    "     \n",
    "    def __init__(self):\n",
    "        self.nom = input('nom')\n",
    "        self.club = input('club préferé')\n",
    "        self.age = input('age')\n",
    "    \n",
    "    def speak(self):\n",
    "        print(\"slt je suis {}\".format(self.nom))\n",
    "        print(\"mon club preferee est le {}\".format(self.nom))\n",
    "        print(\"j'ai {} ans\".format(self.age))\n",
    "\n",
    "x = ma_class()\n",
    "x.speak()\n",
    "        "
   ]
  },
  {
   "cell_type": "markdown",
   "metadata": {},
   "source": [
    "# Liste de comprehension"
   ]
  },
  {
   "cell_type": "code",
   "execution_count": null,
   "metadata": {},
   "outputs": [],
   "source": [
    "#liste de comprehension\n",
    "liste = [1,2,3,4,5]\n",
    "x = [x*2 for x in liste]\n",
    "print(x)"
   ]
  },
  {
   "cell_type": "markdown",
   "metadata": {},
   "source": [
    "# liste generatrice"
   ]
  },
  {
   "cell_type": "code",
   "execution_count": null,
   "metadata": {},
   "outputs": [],
   "source": [
    "liste = [1,2,3,4,5]\n",
    "x = (x*2 for x in liste)\n",
    "next(x)\n"
   ]
  },
  {
   "cell_type": "markdown",
   "metadata": {},
   "source": [
    "# Zip/Format"
   ]
  },
  {
   "cell_type": "code",
   "execution_count": null,
   "metadata": {},
   "outputs": [],
   "source": [
    "liste_departement = [\"75\",\"69\",\"06\",\"33\"]\n",
    "liste_ville = [\"paris\",\"lyon\",\"nice\",\"bordeaux\"]\n",
    "\n",
    "for ville,departement in zip(liste_ville,liste_departement):\n",
    "    print(f\"la ville de {ville} se trouve dans le {departement}\")# le f avant la string pour format\n"
   ]
  },
  {
   "cell_type": "markdown",
   "metadata": {},
   "source": [
    "# dict de comprehension"
   ]
  },
  {
   "cell_type": "code",
   "execution_count": null,
   "metadata": {},
   "outputs": [],
   "source": [
    "keys = [\"keys1\",\"keys2\",\"keys3\"]\n",
    "val = [\"val1\",\"val2\",\"val3\"]\n",
    "{k: v for k, v in zip(keys,val)}"
   ]
  },
  {
   "cell_type": "markdown",
   "metadata": {},
   "source": [
    "# Pandas"
   ]
  },
  {
   "cell_type": "code",
   "execution_count": null,
   "metadata": {},
   "outputs": [],
   "source": [
    "#pandas \n",
    "import pandas as pd\n",
    "df = pd.read_csv('../data/data_cancer.csv')\n",
    "#df.describe()\n",
    "\n",
    "#df.iloc[:, :-1]#loc une col\n",
    "#df.iloc[-1:, :]#loc une raw\n"
   ]
  },
  {
   "cell_type": "markdown",
   "metadata": {},
   "source": [
    "# BeautifulSoup"
   ]
  },
  {
   "cell_type": "code",
   "execution_count": null,
   "metadata": {},
   "outputs": [],
   "source": [
    "#bs4\n",
    "import requests\n",
    "from bs4 import BeautifulSoup\n",
    "i = 1\n",
    "url = ['https://www.larousse.fr/dictionnaires/francais/forum/'+str(i) for i in range(5)]\n",
    "#r = requests.get(url)\n",
    "#print(r.status_code)\n",
    "#soup = BeautifulSoup(r.content,\"lxml\")\n",
    "def read(url):\n",
    "    for x in url:\n",
    "        r1 = requests.get(x)\n",
    "        print(r1.status_code,\"\\n\"+\"-\"*116)\n",
    "        c = r1.content\n",
    "        soup = BeautifulSoup(c,'lxml')\n",
    "    return soup\n",
    "#read(url)"
   ]
  },
  {
   "cell_type": "markdown",
   "metadata": {},
   "source": [
    "# SELENIUM"
   ]
  },
  {
   "cell_type": "code",
   "execution_count": null,
   "metadata": {},
   "outputs": [],
   "source": [
    "#selenium\n",
    "from selenium import webdriver\n",
    "\n",
    "driver = webdriver.Chrome(\"path/du/chromedriver\") #le chromedriver est a telecharger selon votre type de navigateur\n",
    "driver.set_page_load_timeout(10)\n",
    "driver.get(\"https://www.societe.com\")\n",
    "element = driver.find_element_by_id(\"input_search\")\n",
    "element_butt = driver.find_element_by_id(\"buttsearch\")\n",
    "\n",
    "element.send_keys(\"some text\")"
   ]
  },
  {
   "cell_type": "markdown",
   "metadata": {},
   "source": [
    "# NUMPY"
   ]
  },
  {
   "cell_type": "code",
   "execution_count": null,
   "metadata": {},
   "outputs": [],
   "source": [
    "#numpy\n",
    "np.loadtxt('file.txt') #Load txt file\n",
    "np.genfromtxt('file.csv',delimiter=',') #Load csv file\n",
    "np.savetxt('file.txt',arr,delimiter=' ') #save txt file\n",
    "np.savetxt('file.csv',arr,delimiter=',') #save csv file\n",
    "\n",
    "#créer Arrays\n",
    "np.array([1,2,3]) #dictionnaire 1 dimmension\n",
    "np.array([(1,2,3),(4,5,6)]) #dictionnaire 2 dimmension\n",
    "np.zeros(3) #dictionnaire 1 dimmension de  3 \"0\"\n",
    "np.ones((3,4)) #dictionnaire  dimmension 3*4  de valeur 1\n",
    "np.eye(5)  #dictionnaire  dimmension 3*4  de valeur 0 et de 1 en diagonnal\n",
    "np.linspace(0,100,6) #Tableau de 6 valeurs également divisées de 0 à 100\n",
    "np.arange(0,10,3) #Tableau de valeurs de 0 à 10 avec un step de 3 (par exemple, [0,3,6,9])\n",
    "np.full((2,3),8) # Tableau 2x3 avec toutes les valeurs 8\n",
    "np.random.rand(4,5) #Tableau 4x5 de flottant aléatoires entre 0 et 1\n",
    "np.random.rand(6,7)*100 #Tableau 6x7 de flottant aléatoires entre 0 et 100\n",
    "np.random.randint(5,size=(2,3)) #Tableau 2x3 avec ints aléatoires entre 0-4\n",
    "\n",
    "#inspéction des propriété\n",
    "arr.size #retourne le taille d'un tableau\n",
    "arr.shape #retourne la dimension d'un tableau\n",
    "arr.dtype #retourne le type des elements de la liste\n",
    "arr.astype(dtype) #converti les elements de la liste\n",
    "arr.tolist() #converti en python liste\n",
    "np.info(np.eye) #voir la doc de \"np.eye\"\n",
    "\n",
    "#Copie/tri/redimensionner les tableau\n",
    "arr.view(dtype) #Crée une vue des éléments arr avec le type dtype\n",
    "arr.sort() #trier le tableau\n",
    "arr.sort(axis=0) #trier le tableau par rapport a l'axis\n",
    "two_d_arr.flatten() #Aplatit le tableau 2D  en 1D\n",
    "arr.T #Transposer un tableau (les lignes deviennent des colonnes et inversement)\n",
    "arr.reshape(3,4) # Remodèle arr à 3 lignes, 4 colonnes sans modifier les données\n",
    "arr.resize((5,6)) #Change la forme d'arr en 5x6 et remplit les nouvelles valeurs avec 0\n",
    "\n",
    "#ajouter/effacé des elements\n",
    "np.append(arr,values) #Ajoute des valeurs à la fin de l'arr\n",
    "np.insert(arr,2,values) #Insère les valeurs dans arr avant l'index 2\n",
    "np.delete(arr,3,axis=0) #Supprime la ligne sur l'index 3 de l'arr\n",
    "np.delete(arr,4,axis=1) #Supprime la colonne sur l'index 4 de l'arr\n",
    "\n",
    "#combine/decoupe\n",
    "np.concatenate((arr1,arr2),axis=0) #Ajoute arr2 en tant que lignes à la fin de arr1\n",
    "np.concatenate((arr1,arr2),axis=1) #Ajoute arr2 comme colonne à la fin de arr1\n",
    "np.split(arr,3) #Divise arr dans 3 sous-tableaux\n",
    "np.hsplit(arr,5) #Séparer les arrêts horizontalement au 5ème index\n",
    "\n",
    "#Indexation / découpage / sous-réglage\n",
    "\n",
    "arr[5] #Retourne l'élément à l'index 5\n",
    "arr[2,5] #Retourne l'élément de tableau 2D sur l'index [2] [5]\n",
    "arr[1]=4 #Assigne l'élément de tableau sur l'index 1 la valeur 4\n",
    "arr[1,3]=10 # Assigne un élément de tableau sur l'index [1] [3] à la valeur 10\n",
    "arr[0:3] #Renvoie les éléments aux indices 0,1,2 (Sur un tableau 2D: renvoie les lignes 0,1,2)\n",
    "arr[0:3,4] #Renvoie les éléments des lignes 0,1,2 de la colonne 4\n",
    "arr[:2] #Renvoie les éléments aux indices 0,1 (Sur un tableau 2D: renvoie les lignes 0,1)\n",
    "arr[:,1] #Renvoie les éléments à l'index 1 sur toutes les lignes.\n",
    "arr<5 #Retourne un tableau avec des valeurs booléennes\n",
    "(arr1<3) & (arr2>5) # Retourne un tableau avec des valeurs booléennes\n",
    "~arr #Inverse un tableau booléen\n",
    "arr[arr<5] #Retourne des éléments de tableau inférieurs à 5\n",
    "\n",
    "#Mathématiques scalaires\n",
    "np.add(arr,1) #Ajouter 1 à chaque élément du tableau\n",
    "np.subtract(arr,2) #Soustrayez 2 de chaque élément du tableau\n",
    "np.multiply(arr,3) #Multipliez chaque élément du tableau par 3\n",
    "np.divide(arr,4) #Divise chaque élément du tableau par 4 (retourne np.nan pour la division par zéro)\n",
    "np.power(arr,5) #Élevez chaque élément du tableau à la 5ème puissance\n",
    "\n",
    "#Vector Math\n",
    "np.add(arr1,arr2) #Élémentaire, ajoutez arr2 à arr1\n",
    "np.subtract(arr1,arr2) #Soustraction élémentaire arr2 de arr1\n",
    "np.multiply(arr1,arr2) #Élément par élément multiplier arr1 par arr2\n",
    "np.divide(arr1,arr2) #Elémentairement diviser arr1 par arr2\n",
    "np.power(arr1,arr2) #Élément par élément, augmentez arr1, élevé à la puissance de arr2\n",
    "np.array_equal(arr1,arr2) #Renvoie True si les tableaux ont les mêmes éléments et la même forme.\n",
    "np.sqrt(arr) #Racine carrée de chaque élément du tableau\n",
    "np.sin(arr) #Sinus de chaque élément du tableau\n",
    "np.log(arr) #logarithme de chaque élément du tableau\n",
    "np.abs(arr) #Valeur absolue de chaque élément du tableau\n",
    "np.ceil(arr) #Arrondit audessus\n",
    "np.floor(arr) #Arrondit en dessous\n",
    "np.round(arr) #Arrondit au plus proche du int\n",
    "\n",
    "Statistics\n",
    "np.mean(arr,axis=0) #Retourne la moyenne le long d'un axe spécifique\n",
    "arr.sum() #Retourne la somme du tableau\n",
    "arr.min() #Retourne le min du tableau\n",
    "arr.max(axis=0) #Renvoie la valeur maximale d'un axe spécifique\n",
    "np.var(arr) #Retourne la variance du tableau\n",
    "np.std(arr,axis=1) #Renvoie l'écart type d'un axe spécifique\n",
    "arr.corrcoef() #Retourne le coefficient de corrélation du tableau"
   ]
  },
  {
   "cell_type": "markdown",
   "metadata": {},
   "source": [
    "# Pandas"
   ]
  },
  {
   "cell_type": "code",
   "execution_count": null,
   "metadata": {},
   "outputs": [],
   "source": [
    "\n",
    "pd.read_csv(nom du fichier) #à partir d'un fichier CSV\n",
    "pd.read_table(nomfichier) #À partir d'un texte délimité\n",
    "pd.read_excel(nom du fichier)#à partir d'un fichier Excel\n",
    "pd.read_sql(query, objet_connexion)#Lit à partir d'une table / base de données SQL\n",
    "pd.read_json(json_string) # Lit à partir d'un JSON\n",
    "\n",
    "#chaîne, URL ou fichier formaté.\n",
    "pd.read_html(url) #Analyse une URL html, une chaîne ou fichier et extrait des tables dans une liste de cadres de données\n",
    "pd.read_clipboard() # Prend le contenu de votre presse-papiers et le passe à read_table()\n",
    "pd.DataFrame(dict) # À partir d'un dict, clef pour noms de colonnes, valeurs de données sous forme de listes\n",
    "\n",
    "#DONNÉES D'EXPORTATION\n",
    "df.to_csv(nom du fichier) #Écrit dans un fichier CSV\n",
    "df.to_excel(nom du fichier) # Écrit dans un fichier Excel\n",
    "df.to_sql(nom_table, objet_connexion) #Écrit dans une table SQL\n",
    "df.to_json(nomfichier) # Écrit dans un fichier au format JSON\n",
    "df.to_html(filename) # Enregistre sous forme de tableau HTML\n",
    "df.to_clipboard() # Ecrit dans le presse-papier\n",
    "\n",
    "#CRÉER DES OBJETS DE TEST \n",
    "pd.DataFrame(np.random.rand (20,5)) # 5 colonnes et 20 rangées de flotteurs aléatoires\n",
    "pd.Series(my_list) # Crée une série à partir d'un iterable my_list\n",
    "df.index = pd.date_range ('1900/1/30',périodes = df.shape [0]) # Ajoute un index de date\n",
    "\n",
    "#VISUALISATION / INSPECTION DE DONNÉES\n",
    "df.head(n) # n premières lignes du DataFrame\n",
    "df.tail(n) # n dernières lignes du DataFrame\n",
    "df.shape() # Nombre de lignes et de colonnes\n",
    "df.info() # Index, type de données et mémoire information\n",
    "df.describe() # Statistiques sommaires pour numérique des colonnes\n",
    "s.value_counts(dropna = False) # Vues uniques valeurs et comptes\n",
    "df.apply (pd.Series.value_counts) # Unique valeurs et comptes pour toutes les colonnes\n",
    "\n",
    "#SÉLECTION\n",
    "df [col] # Retourne la colonne avec l'étiquette col en tant que série\n",
    "df [[col1, col2]] # Retourne les colonnes en tant que nouvelle Trame de données\n",
    "s.iloc [0] # Sélection par position\n",
    "s.loc [0] # Sélection par index\n",
    "df.iloc [0 ,:] # Première rangée\n",
    "df.iloc [0,0] # Premier élément de la première colonne\n",
    "\n",
    "#NETTOYAGE DES DONNÉES\n",
    "df.columns = ['a', 'b', 'c'] # Renomme des colonnes\n",
    "pd.isnull() # Vérifie les valeurs null, le retours est un Tableau de booléen\n",
    "pd.notnull() # Inverse de s.isnull ()\n",
    "df.dropna() # Supprime toutes les lignes contenant des valeurs nulls\n",
    "df.dropna(axe = 1) # Supprime toutes les colonnes qui contenir des valeurs nulles\n",
    "df.dropna(axe = 1, thresh = n) # Supprime toutes les lignes ont moins de n valeurs non nulles\n",
    "df.fillna(x) # Remplace toutes les valeurs nulles par x\n",
    "s.fillna(s.mean()) # Remplace toutes les valeurs NULL parla moyenne (la moyenne peut être remplacée par presque toute fonction de la section statistiques)\n",
    "s.astype (float) # Convertit le type de données d'une série en flottants\n",
    "s.replace (1, 'un') # Remplace toutes les valeurs égales à 1 avec 'un'\n",
    "à la place ([1,3], ['un', 'trois']) # remplace tous 1 avec 'un' et 3 avec 'trois'\n",
    "df.rename (colonnes = lambda x: x + 1) # Masse renommer des colonnes\n",
    "df.rename (columns = {'old_name': 'new_name '}) # Renommage sélectif\n",
    "df.set_index ('column_one') # Change l'index\n",
    "df.rename (index = lambda x: x + 1) # Masse renommer l'index\n",
    "\n",
    "#FILTRE, TRIER ET GROUPER\n",
    "df [df [col]> 0.5] # trié où se trouve la colonne est supérieur à 0,5\n",
    "df [(df [col]> 0,5) & (df [col] <0,7)] #trié où 0.7> col> 0.5\n",
    "df.sort_values(col1) # Trie les valeurs par col1 dans ordre croissant\n",
    "df.sort_values(col2, croissant = False) # Trie valeurs par col2 en ordre décroissant\n",
    "df.sort_values([col1, col2],ascending = [True, False])# Trie les valeurs par col1 en ordre croissant puis col2 en descendant ordre\n",
    "df.groupby (col) #Retourne un objet groupby pour valeurs d'une colonne\n",
    "df.groupby ([col1, col2]) # Retourne un groupby valeurs d'objet de plusieurs colonnes\n",
    "df.groupby (col1) [col2] .mean () # Retourne le moyenne des valeurs en col2, regroupées par le valeurs en col1 (la moyenne peut être remplacée parpresque n'importe quelle fonction de la section statistiques)\n",
    "df.pivot_table (index = col1, valeurs =[col2, col3], aggfunc = mean) # Crée un pivot table qui regroupe par col1 et calcule la moyenne de col2 et col3\n",
    "df.groupby (col1) .agg (np.mean) # Trouve la moyenne sur toutes les colonnes pour chaque unique colonne 1 groupe\n",
    "df.apply (np.mean) # Applique une fonction sur chaque colonne\n",
    "df.apply (np.max, axis = 1) # Applique une fonction à chaque rangée\n",
    "benin = df['y']>0 # creer un mask\n",
    "df[benin]#appliquer un mask\n",
    "\n",
    "#JOIN / COMBINE\n",
    "df1.append (df2) # Ajoute les lignes de df1 au fin de df2 (les colonnes doivent être identiques)\n",
    "pd.concat ([df1, df2], axis = 1) # Ajoute le colonnes de df1 à la fin de df2 (les lignes doivent être identique)\n",
    "df1.join (df2, on = col1, how = 'inner') # style SQL joint les colonnes de df1 avec les colonnes sur df2 où les lignes pour col ont identiques valeurs. comment peut être un de 'gauche', 'droite',\"extérieur\", \"intérieur\"\n",
    "\n",
    "#STATISTIQUES\n",
    "#Celles-ci peuvent toutes être appliquées à une série.\n",
    "df.describe () # Statistiques sommaires pour numérique des colonnes\n",
    "df.mean () # Retourne la moyenne de toutes les colonnes\n",
    "df.corr () # Retourne la corrélation entre colonnes dans un DataFrame\n",
    "df.count () # Retourne le nombre de non-null valeurs dans chaque colonne DataFrame\n",
    "df.max() # Retourne la plus haute valeur dans chaque colonne\n",
    "df.min () # Retourne la valeur la plus basse de chaque colonne\n",
    "df.median () # Retourne la médiane de chaque colonne\n",
    "df.std () # Retourne l’écart type de chaque colonne"
   ]
  },
  {
   "cell_type": "markdown",
   "metadata": {},
   "source": [
    "### fun"
   ]
  },
  {
   "cell_type": "code",
   "execution_count": null,
   "metadata": {},
   "outputs": [],
   "source": [
    "import time\n",
    "import sys\n",
    "def animated(msg):\n",
    "    for char in msg:\n",
    "        time.sleep(0.1)\n",
    "        sys.stdout.write(char)\n",
    "        sys.stdout.flush()"
   ]
  },
  {
   "cell_type": "code",
   "execution_count": null,
   "metadata": {},
   "outputs": [],
   "source": [
    "animated(\"capskilllllllllla\")"
   ]
  },
  {
   "cell_type": "code",
   "execution_count": null,
   "metadata": {},
   "outputs": [],
   "source": []
  }
 ],
 "metadata": {
  "kernelspec": {
   "display_name": "Python 3",
   "language": "python",
   "name": "python3"
  },
  "language_info": {
   "codemirror_mode": {
    "name": "ipython",
    "version": 3
   },
   "file_extension": ".py",
   "mimetype": "text/x-python",
   "name": "python",
   "nbconvert_exporter": "python",
   "pygments_lexer": "ipython3",
   "version": "3.8.5"
  },
  "varInspector": {
   "cols": {
    "lenName": 16,
    "lenType": 16,
    "lenVar": 40
   },
   "kernels_config": {
    "python": {
     "delete_cmd_postfix": "",
     "delete_cmd_prefix": "del ",
     "library": "var_list.py",
     "varRefreshCmd": "print(var_dic_list())"
    },
    "r": {
     "delete_cmd_postfix": ") ",
     "delete_cmd_prefix": "rm(",
     "library": "var_list.r",
     "varRefreshCmd": "cat(var_dic_list()) "
    }
   },
   "types_to_exclude": [
    "module",
    "function",
    "builtin_function_or_method",
    "instance",
    "_Feature"
   ],
   "window_display": false
  }
 },
 "nbformat": 4,
 "nbformat_minor": 2
}
